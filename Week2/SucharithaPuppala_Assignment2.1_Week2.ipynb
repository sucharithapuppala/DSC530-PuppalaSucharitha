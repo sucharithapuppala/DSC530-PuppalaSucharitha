{
 "cells": [
  {
   "cell_type": "code",
   "execution_count": 3,
   "metadata": {},
   "outputs": [
    {
     "name": "stdout",
     "output_type": "stream",
     "text": [
      "Hello World! I wonder why that is always the default coding text to start with\n",
      "16\n",
      "2\n",
      "63\n",
      "0.7777777777777778\n",
      "Hello  World\n",
      "[1, 3, 5, 7]\n",
      "[1, 3, 5, 7, 9]\n",
      "('Hello', 'World', 'Welcome', 'Summer')\n"
     ]
    }
   ],
   "source": [
    "# Assignment 2.1 Exercise: Preparing for Exploratory Data Analysis\n",
    "# Sucharitha Puppala\n",
    "# Date : 06-15-2022\n",
    "\n",
    "#Display the text “Hello World! I wonder why that is always the default coding text to start with”\n",
    "print('Hello World! I wonder why that is always the default coding text to start with')\n",
    "\n",
    "#Declaring two numbers a and b\n",
    "a=9\n",
    "b=7\n",
    "\n",
    "#Add two numbers together\n",
    "x=a+b\n",
    "print(x)\n",
    "\n",
    "\n",
    "#Subtract a number from another number\n",
    "x=a-b\n",
    "print(x)\n",
    "\n",
    "#Multiply two numbers\n",
    "x=a*b\n",
    "print(x)\n",
    "\n",
    "#Divide between two numbers\n",
    "x=b/a\n",
    "print(x)\n",
    "\n",
    "#Concatenate two strings together (any words)\n",
    "x='Hello'+' '+' World'\n",
    "print(x)\n",
    "\n",
    "#Create a list of 4 items (can be strings, numbers, both)\n",
    "listEd=[1,3,5,7]\n",
    "print(listEd)\n",
    "\n",
    "#Append an item to your list (again, can be a string, number)\n",
    "listEd.append(9)\n",
    "print(listEd)\n",
    "\n",
    "#Create a tuple with 4 items (can be strings, numbers, both)\n",
    "tupleEd=('Hello','World','Welcome','Summer')\n",
    "print(tupleEd)\n"
   ]
  },
  {
   "cell_type": "code",
   "execution_count": null,
   "metadata": {},
   "outputs": [],
   "source": []
  }
 ],
 "metadata": {
  "kernelspec": {
   "display_name": "Python 3",
   "language": "python",
   "name": "python3"
  },
  "language_info": {
   "codemirror_mode": {
    "name": "ipython",
    "version": 3
   },
   "file_extension": ".py",
   "mimetype": "text/x-python",
   "name": "python",
   "nbconvert_exporter": "python",
   "pygments_lexer": "ipython3",
   "version": "3.8.5"
  }
 },
 "nbformat": 4,
 "nbformat_minor": 4
}
